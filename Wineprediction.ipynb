{
 "cells": [
  {
   "cell_type": "code",
   "execution_count": null,
   "id": "6b0f8b7e-af12-430e-b171-17dfd7bdc649",
   "metadata": {},
   "outputs": [],
   "source": [
    "print('hello')"
   ]
  },
  {
   "cell_type": "code",
   "execution_count": null,
   "id": "bbc8ab5f-4bb1-45e0-b997-e1b14e0b68f1",
   "metadata": {},
   "outputs": [],
   "source": [
    "import pandas as pd \n",
    "import seaborn as sns \n",
    "import matplotlib.pyplot as plt\n",
    "from sklearn.ensemble import RandomForestClassifier\n",
    "from sklearn.svm import SVC\n",
    "from sklearn import svm\n",
    "from sklearn.neural_network import MLPClassifier  # MLPClassifier, not MLClassifier\n",
    "from sklearn.preprocessing import StandardScaler, LabelEncoder  # preprocessing, not prepocessing; StandardScaler, not StandardScalar\n",
    "from sklearn.metrics import confusion_matrix, classification_report\n",
    "from sklearn.model_selection import train_test_split\n",
    "%matplotlib inline"
   ]
  },
  {
   "cell_type": "code",
   "execution_count": null,
   "id": "40a3a1af-a43e-4a17-869e-96a964f6efe3",
   "metadata": {},
   "outputs": [],
   "source": [
    "wine = pd.read_csv(\"C:/Users/sivab/Downloads/winequality-red.csv\", sep=',')"
   ]
  },
  {
   "cell_type": "code",
   "execution_count": null,
   "id": "14dbe22d-16b6-4551-bb7e-dd59120dcf04",
   "metadata": {},
   "outputs": [],
   "source": [
    "wine.head(10)"
   ]
  },
  {
   "cell_type": "code",
   "execution_count": null,
   "id": "554fef55-c513-4d77-98db-78c35df5bd6b",
   "metadata": {},
   "outputs": [],
   "source": [
    "wine.info()"
   ]
  },
  {
   "cell_type": "code",
   "execution_count": null,
   "id": "d223f19a-50b5-4a7d-9f4a-6a5ec296db0e",
   "metadata": {},
   "outputs": [],
   "source": [
    "wine.isnull().sum()"
   ]
  },
  {
   "cell_type": "code",
   "execution_count": null,
   "id": "72c3d162-8cc1-477e-ac43-0c96343bd40c",
   "metadata": {},
   "outputs": [],
   "source": [
    "categories=(2, 6.5, 8)\n",
    "group_names= ['bad', 'good']\n",
    "wine['quality']=pd.cut(wine['quality'], categories, labels=group_names)\n",
    "wine['quality'].unique()"
   ]
  },
  {
   "cell_type": "code",
   "execution_count": null,
   "id": "b53625db-67ac-4275-8b2a-2a683725f569",
   "metadata": {},
   "outputs": [],
   "source": [
    "label_quality=LabelEncoder()"
   ]
  },
  {
   "cell_type": "code",
   "execution_count": null,
   "id": "94a87b68-384e-4b6a-b368-fbcaba1a6c9d",
   "metadata": {},
   "outputs": [],
   "source": [
    "wine['quality']=label_quality.fit_transform(wine['quality'])"
   ]
  },
  {
   "cell_type": "code",
   "execution_count": null,
   "id": "76d5503b-2fdf-460b-a866-69c0bd404514",
   "metadata": {},
   "outputs": [],
   "source": [
    "print(wine.head(15))"
   ]
  },
  {
   "cell_type": "code",
   "execution_count": null,
   "id": "320833d4-04f0-4b79-a71a-9ffe020dfce4",
   "metadata": {},
   "outputs": [],
   "source": [
    "#how are bad or good comes under the categories.\n",
    "wine['quality'].value_counts()"
   ]
  },
  {
   "cell_type": "code",
   "execution_count": null,
   "id": "4737f8ab-8433-4f63-a9a4-dd1d50cebc5e",
   "metadata": {},
   "outputs": [],
   "source": [
    "plt.figure(figsize=(6, 4))\n",
    "sns.set_style(\"whitegrid\")\n",
    "ax = sns.countplot(data=wine, x='quality')\n",
    "ax.set_title('Distribution of Wine Quality', fontsize=16)\n",
    "ax.set_xlabel('Quality Rating', fontsize=12)\n",
    "ax.set_ylabel('Count', fontsize=12)\n",
    "\n",
    "# Add value labels on top of bars\n",
    "for p in ax.patches:\n",
    "    ax.annotate(f'{int(p.get_height())}', \n",
    "                (p.get_x() + p.get_width()/2., p.get_height()), \n",
    "                ha='center', va='bottom')\n",
    "\n",
    "plt.show()"
   ]
  },
  {
   "cell_type": "code",
   "execution_count": null,
   "id": "ddf3a4ae-2804-40a8-95c0-3a21b809d880",
   "metadata": {},
   "outputs": [],
   "source": [
    "#now  seperate the dataset as response variable and feature variables\n",
    "x=wine.drop('quality', axis=1)\n",
    "y=wine['quality']"
   ]
  },
  {
   "cell_type": "code",
   "execution_count": null,
   "id": "cf3b0d31-8f3c-4477-8af3-e29d3bce9417",
   "metadata": {},
   "outputs": [],
   "source": [
    "# Train and test splitting of data\n",
    "X_train, X_test,y_train, y_test=train_test_split(x, y, test_size=0.2, random_state=42)"
   ]
  },
  {
   "cell_type": "code",
   "execution_count": null,
   "id": "3cb73a9c-528e-4c6c-8c48-f13c2cb85a14",
   "metadata": {},
   "outputs": [],
   "source": [
    "# Applying Standard Scaling to get optimezed result\n",
    "sc=StandardScaler()\n",
    "X_train = sc.fit_transform(X_train)\n",
    "X_test = sc.transform(X_test)"
   ]
  },
  {
   "cell_type": "markdown",
   "id": "50437c41-769b-47e7-841a-364e6f708bc0",
   "metadata": {},
   "source": [
    "# Random forest Classifier"
   ]
  },
  {
   "cell_type": "code",
   "execution_count": null,
   "id": "3cdb4d1a-bf08-4ad6-93e3-ca826d0f19d6",
   "metadata": {},
   "outputs": [],
   "source": [
    "Rfc=RandomForestClassifier(n_estimators=200)\n",
    "Rfc.fit(X_train,y_train)\n",
    "pred_rfc=Rfc.predict(X_test)"
   ]
  },
  {
   "cell_type": "code",
   "execution_count": null,
   "id": "dae099c6-0645-49eb-84f3-da8f494c2ce6",
   "metadata": {},
   "outputs": [],
   "source": [
    "pred_rfc[:20]"
   ]
  },
  {
   "cell_type": "code",
   "execution_count": null,
   "id": "c502c913-b251-41b4-83b7-402736ee7e21",
   "metadata": {},
   "outputs": [],
   "source": [
    "X_test[:20]"
   ]
  },
  {
   "cell_type": "code",
   "execution_count": null,
   "id": "0f92f889-2f46-4481-a820-bc38981978e9",
   "metadata": {},
   "outputs": [],
   "source": [
    "#Random forest model classification\n",
    "print(classification_report(y_test,pred_rfc))"
   ]
  },
  {
   "cell_type": "code",
   "execution_count": null,
   "id": "b505fb79-6c2b-4219-86d3-ccecaeba8b0d",
   "metadata": {},
   "outputs": [],
   "source": [
    "print(confusion_matrix(y_test,pred_rfc))"
   ]
  },
  {
   "cell_type": "markdown",
   "id": "99dae554-b362-4148-9872-b1d793553ca1",
   "metadata": {},
   "source": [
    "# SVM Classifier:"
   ]
  },
  {
   "cell_type": "code",
   "execution_count": null,
   "id": "b95f6272-e24a-4937-8d6e-0105c7286069",
   "metadata": {},
   "outputs": [],
   "source": [
    "svm_c=svm.SVC()\n",
    "svm_c.fit(X_train, y_train)\n",
    "pred_svm_c=svm_c.predict(X_test)"
   ]
  },
  {
   "cell_type": "code",
   "execution_count": null,
   "id": "c61ee8da-5749-4bac-986d-09ecf87b287c",
   "metadata": {},
   "outputs": [],
   "source": [
    "print(classification_report(y_test,pred_svm_c))"
   ]
  },
  {
   "cell_type": "code",
   "execution_count": null,
   "id": "21b1a782-9809-4972-ac51-35e77d2128ca",
   "metadata": {},
   "outputs": [],
   "source": [
    "print(confusion_matrix(y_test,pred_svm_c))"
   ]
  },
  {
   "cell_type": "code",
   "execution_count": null,
   "id": "b35ccc6b-b768-43f1-850c-18191fec0e71",
   "metadata": {},
   "outputs": [],
   "source": [
    "mlpc=MLPClassifier(hidden_layer_sizes=(11,11,11),max_iter=300)\n",
    "mlpc.fit(X_train,y_train)\n",
    "pred_mlpc=mlpc.predict(X_test)"
   ]
  },
  {
   "cell_type": "code",
   "execution_count": null,
   "id": "7c6495ce-12da-4ef4-a64a-5550c589fc54",
   "metadata": {},
   "outputs": [],
   "source": [
    "print(classification_report(y_test,pred_mlpc))"
   ]
  },
  {
   "cell_type": "code",
   "execution_count": null,
   "id": "f6b2cfca-9a31-4e1e-ae6c-af3d18b32325",
   "metadata": {},
   "outputs": [],
   "source": [
    "print(confusion_matrix(y_test,pred_mlpc))"
   ]
  },
  {
   "cell_type": "code",
   "execution_count": null,
   "id": "84c4dd92-e334-4ae9-b1c3-b813bb679654",
   "metadata": {},
   "outputs": [],
   "source": []
  }
 ],
 "metadata": {
  "kernelspec": {
   "display_name": "Python 3 (ipykernel)",
   "language": "python",
   "name": "python3"
  },
  "language_info": {
   "codemirror_mode": {
    "name": "ipython",
    "version": 3
   },
   "file_extension": ".py",
   "mimetype": "text/x-python",
   "name": "python",
   "nbconvert_exporter": "python",
   "pygments_lexer": "ipython3",
   "version": "3.13.2"
  }
 },
 "nbformat": 4,
 "nbformat_minor": 5
}
